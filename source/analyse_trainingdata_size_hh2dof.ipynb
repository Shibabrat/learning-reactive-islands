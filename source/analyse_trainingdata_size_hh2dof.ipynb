{
 "cells": [
  {
   "cell_type": "markdown",
   "metadata": {},
   "source": [
    "## Performance analysis of the different approaches of learning reactive islands"
   ]
  },
  {
   "cell_type": "code",
   "execution_count": 19,
   "metadata": {},
   "outputs": [
    {
     "name": "stdout",
     "output_type": "stream",
     "text": [
      "3.1410707015986405\n"
     ]
    }
   ],
   "source": [
    "\n",
    "import numpy as np\n",
    "\n",
    "import curves_area\n",
    "import importlib\n",
    "importlib.reload(curves_area)\n",
    "\n",
    "\n",
    "# Generate a circle with unit radius to test the function\n",
    "radius = 1\n",
    "angle_grid = np.linspace(0, 2*np.pi, 200, endpoint=True)\n",
    "curve2d = np.array([radius*np.cos(angle_grid), radius*np.sin(angle_grid)]).T\n",
    "\n",
    "# curve2d = np.array([[1,1],[4,1],[4,3],[1,3]])\n",
    "area = curves_area.greens_poly_area(curve2d)\n",
    "print(area)\n"
   ]
  },
  {
   "cell_type": "markdown",
   "metadata": {},
   "source": [
    "### Area inside the energy boundary and reactive island\n",
    "\n",
    "The area is computed using the Green's theorem on the discretized boundary"
   ]
  },
  {
   "cell_type": "code",
   "execution_count": 40,
   "metadata": {},
   "outputs": [
    {
     "name": "stdout",
     "output_type": "stream",
     "text": [
      "Area inside the total energy ( E = 0.190) boundary at y = 0.00 is 1.194\n",
      "Area inside the reactive islands for ( E = 0.190) at y = 0.00 is 0.08453\n"
     ]
    }
   ],
   "source": [
    "\n",
    "import henonheiles\n",
    "importlib.reload(henonheiles)\n",
    "import matplotlib.pyplot as plt\n",
    "\n",
    "params = [1.0, 1.0, 1.0, 1.0, 1.0]\n",
    "total_energy = 0.19\n",
    "y_constant = 0\n",
    "datapath_ris = '../../henonheiles/data/manifolds_E19e-2/firstRIs/'\n",
    "manifold_time = 80\n",
    "\n",
    "\n",
    "energy_boundary = henonheiles.energy_boundary_sos_xpx(params, total_energy, \\\n",
    "                                               y_constant)\n",
    "energy_boundary_area = curves_area.greens_poly_area(energy_boundary)\n",
    "print('Area inside the total energy ( E = %.3f) boundary at y = %.2f is %.3f'%(total_energy, y_constant, energy_boundary_area))\n",
    "\n",
    "\n",
    "ri_topsaddle, ri_leftsaddle, ri_rightsaddle = henonheiles.get_ris_data(datapath_ris, \\\n",
    "                                                                      total_energy, \\\n",
    "                                                                      manifold_time)\n",
    "ri_area = curves_area.greens_poly_area(ri_topsaddle[:,[1,3]])\n",
    "print('Area inside the reactive islands for ( E = %.3f) at y = %.2f is %.5f'%(total_energy, y_constant, ri_area))\n",
    "\n"
   ]
  },
  {
   "cell_type": "markdown",
   "metadata": {},
   "source": [
    "### Quantifying the training data \n",
    "\n",
    "The number of initial conditions that approximates the area inside a curve upto\n",
    "3rd significant digit is considered as the benchmark size of the training data"
   ]
  },
  {
   "cell_type": "code",
   "execution_count": 42,
   "metadata": {},
   "outputs": [
    {
     "name": "stdout",
     "output_type": "stream",
     "text": [
      "Number of points to get benchmark training   3926\n"
     ]
    }
   ],
   "source": [
    "\n",
    "trial_num_pts = 10000\n",
    "\n",
    "# Create a box around a given 2D boundary and obtain its area\n",
    "x_min = energy_boundary[:,0].min()\n",
    "x_max = energy_boundary[:,0].max()\n",
    "y_min = energy_boundary[:,1].min()\n",
    "y_max = energy_boundary[:,1].max()\n",
    "\n",
    "boundary_box_area = (y_max - y_min)*(x_max - x_min)\n",
    "\n",
    "benchmark_num_pts = (energy_boundary_area/boundary_box_area)*trial_num_pts\n",
    "print('Number of points to get benchmark training %6d'%(int(benchmark_num_pts)))\n"
   ]
  },
  {
   "cell_type": "code",
   "execution_count": 34,
   "metadata": {},
   "outputs": [
    {
     "name": "stdout",
     "output_type": "stream",
     "text": [
      "Variable               Type       Data/Info\n",
      "-------------------------------------------\n",
      "angle_grid             ndarray    200: 200 elems, type `float64`, 1600 bytes\n",
      "area                   float64    3.1410707015986405\n",
      "curve2d                ndarray    200x2: 400 elems, type `float64`, 3200 bytes\n",
      "curves_area            module     <module 'curves_area' fro<...>ds/codes/curves_area.py'>\n",
      "datapath_ris           str        ../../henonheiles/data/manifolds_E17e-2/firstRIs/\n",
      "energy_boundary        ndarray    602x2: 1204 elems, type `float64`, 9632 bytes\n",
      "energy_boundary_area   float64    1.0679239046459597\n",
      "henonheiles            module     <module 'henonheiles' fro<...>ds/codes/henonheiles.py'>\n",
      "importlib              module     <module 'importlib' from <...>7/importlib/__init__.py'>\n",
      "manifold_time          int        80\n",
      "np                     module     <module 'numpy' from '/Us<...>kages/numpy/__init__.py'>\n",
      "params                 list       n=5\n",
      "plt                    module     <module 'matplotlib.pyplo<...>es/matplotlib/pyplot.py'>\n",
      "radius                 int        1\n",
      "ri_area                float64    0.012089671045230274\n",
      "ri_leftsaddle          ndarray    5000x5: 25000 elems, type `float64`, 200000 bytes (195.3125 kb)\n",
      "ri_rightsaddle         ndarray    5000x5: 25000 elems, type `float64`, 200000 bytes (195.3125 kb)\n",
      "ri_topsaddle           ndarray    5000x5: 25000 elems, type `float64`, 200000 bytes (195.3125 kb)\n",
      "total_energy           float      0.17\n",
      "x_max                  float64    0.5830951893845301\n",
      "x_min                  float64    -0.5830951893845301\n",
      "y_constant             int        0\n"
     ]
    }
   ],
   "source": [
    "whos"
   ]
  },
  {
   "cell_type": "code",
   "execution_count": null,
   "metadata": {},
   "outputs": [],
   "source": []
  },
  {
   "cell_type": "markdown",
   "metadata": {},
   "source": [
    "## Performance analysis for adaptive training data"
   ]
  },
  {
   "cell_type": "code",
   "execution_count": null,
   "metadata": {},
   "outputs": [],
   "source": [
    "\n",
    "import joblib\n",
    "\n",
    "datapath_mlmodels = '../data/hh2dof_firstRIs/adaptive_trainingdata_size/'\n",
    "\n",
    "training_data_size = 625\n",
    "total_energy = 0.17\n",
    "trainingdata_time = 30\n",
    "clf_model = joblib.load(datapath_mlmodels \\\n",
    "                        + 'hh_svc_samples' + str(training_data_size) + '_E%.3f'%(total_energy) \\\n",
    "                        + '_T%.3f'%(trainingdata_time) + '.sav')\n",
    "\n"
   ]
  },
  {
   "cell_type": "code",
   "execution_count": null,
   "metadata": {},
   "outputs": [],
   "source": [
    "whos"
   ]
  }
 ],
 "metadata": {
  "kernelspec": {
   "display_name": "Python 3",
   "language": "python",
   "name": "python3"
  },
  "language_info": {
   "codemirror_mode": {
    "name": "ipython",
    "version": 3
   },
   "file_extension": ".py",
   "mimetype": "text/x-python",
   "name": "python",
   "nbconvert_exporter": "python",
   "pygments_lexer": "ipython3",
   "version": "3.7.4"
  }
 },
 "nbformat": 4,
 "nbformat_minor": 4
}
